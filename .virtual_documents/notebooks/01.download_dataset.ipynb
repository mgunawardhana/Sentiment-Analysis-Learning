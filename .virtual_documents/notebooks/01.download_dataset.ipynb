import numpy as np


import json
with open('../artifacts/kaggle.json','r') as file:
    data = json.load(file)


data


pip install --user --no-warn-script-location kaggle


!pip install kaggle


import os
os.environ['KAGGLE_USERNAME'] = data['username']
os.environ['KAGGLE_KEY'] = data['key']


from kaggle.api.kaggle_api_extended import KaggleApi
api = KaggleApi()
api.authenticate()


api.dataset_download_files('dineshpiyasamara/sentiment-analysis-dataset', path='../artifacts')


import zipfile
with zipfile.ZipFile('../artifacts/sentiment-analysis-dataset.zip','r') as zip_ref:
    zip_ref.extractall('../artifacts/')



